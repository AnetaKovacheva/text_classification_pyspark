{
  "nbformat": 4,
  "nbformat_minor": 0,
  "metadata": {
    "colab": {
      "name": "Text Classification with PySpark.ipynb",
      "provenance": [],
      "collapsed_sections": [],
      "mount_file_id": "1ZsWG_Ic_a5s_fNaSOvL77W0r2B2Q7Dmh",
      "authorship_tag": "ABX9TyOu7rwx5FflGwaY8wG7gJT0",
      "include_colab_link": true
    },
    "kernelspec": {
      "name": "python3",
      "display_name": "Python 3"
    },
    "language_info": {
      "name": "python"
    }
  },
  "cells": [
    {
      "cell_type": "markdown",
      "metadata": {
        "id": "view-in-github",
        "colab_type": "text"
      },
      "source": [
        "<a href=\"https://colab.research.google.com/github/AnetaKovacheva/text_classification_pyspark/blob/main/Text_Classification_with_PySpark.ipynb\" target=\"_parent\"><img src=\"https://colab.research.google.com/assets/colab-badge.svg\" alt=\"Open In Colab\"/></a>"
      ]
    },
    {
      "cell_type": "markdown",
      "source": [
        "# Text Classification with PySpark\n",
        "\n",
        "In this Notebook, I explore and classify the legal text data, available on [Kaggle](https://www.kaggle.com/datasets/shivamb/legal-citation-text-classification). The dataset contains legal cases from the Federal Court of Australia. All cases are from 2006, 2007, 2008 and 2009. Catchphrases, citations sentences, citation catchphrases, and citation classes are captured for each document. Citation classes indicate the type of treatment given to the cases cited by the present case. There are more than 20000 cases in the dataset.\n",
        "\n",
        "I use PySpark to explore, clean, preprocess, and model the data."
      ],
      "metadata": {
        "id": "CRhUnkgyW_cT"
      }
    },
    {
      "cell_type": "markdown",
      "source": [
        "### Install PySpark\n",
        "\n",
        "The code lines below install PySpark in Google Colab."
      ],
      "metadata": {
        "id": "_WrXpc9YuJwX"
      }
    },
    {
      "cell_type": "code",
      "execution_count": 1,
      "metadata": {
        "id": "rxktqpCjFerO"
      },
      "outputs": [],
      "source": [
        "# !apt-get install openjdk-8-jdk-headless -qq > /dev/null\n",
        "# !wget -q http://archive.apache.org/dist/spark/spark-3.1.1/spark-3.1.1-bin-hadoop3.2.tgz\n",
        "# !tar xf spark-3.1.1-bin-hadoop3.2.tgz\n",
        "# !pip install -q findspark"
      ]
    },
    {
      "cell_type": "markdown",
      "source": [
        "### Imports"
      ],
      "metadata": {
        "id": "4HsN7jYluN1V"
      }
    },
    {
      "cell_type": "code",
      "source": [
        "import os\n",
        "os.environ[\"JAVA_HOME\"] = \"/usr/lib/jvm/java-8-openjdk-amd64\"\n",
        "os.environ[\"SPARK_HOME\"] = \"/content/spark-3.1.1-bin-hadoop3.2\"\n",
        "\n",
        "import findspark\n",
        "findspark.init()\n",
        "from pyspark.sql import SparkSession\n",
        "from pyspark.sql.functions import length, col, rand, count\n",
        "from pyspark.ml.feature import CountVectorizer, Tokenizer, StopWordsRemover, IDF, StringIndexer\n",
        "from pyspark.ml.feature import VectorAssembler\n",
        "from pyspark.ml.classification import DecisionTreeClassifier, RandomForestClassifier\n",
        "from pyspark.ml import Pipeline\n",
        "from pyspark.ml.evaluation import MulticlassClassificationEvaluator\n",
        "\n",
        "import pandas as pd\n",
        "import matplotlib.pyplot as plt\n",
        "import seaborn as sns"
      ],
      "metadata": {
        "id": "1jyg6HjVF0XH"
      },
      "execution_count": 2,
      "outputs": []
    },
    {
      "cell_type": "markdown",
      "source": [
        "## 1. Load Data\n",
        "\n",
        "A Spark session is greated. The dataset is loaded in `df`. Its schema shows that it has four columns with string values."
      ],
      "metadata": {
        "id": "u3ysAeMUuUHy"
      }
    },
    {
      "cell_type": "code",
      "source": [
        "spark = SparkSession.builder.appName(\"nlp\").getOrCreate()\n",
        "df = spark.read.csv(\"legal_text_classification.csv\", inferSchema = True, header = True)\n",
        "df.printSchema()"
      ],
      "metadata": {
        "colab": {
          "base_uri": "https://localhost:8080/"
        },
        "id": "rOAMYoLdF43_",
        "outputId": "07214214-2e79-4fc4-c39b-b38661fb2528"
      },
      "execution_count": 3,
      "outputs": [
        {
          "output_type": "stream",
          "name": "stdout",
          "text": [
            "root\n",
            " |-- case_id: string (nullable = true)\n",
            " |-- case_outcome: string (nullable = true)\n",
            " |-- case_title: string (nullable = true)\n",
            " |-- case_text: string (nullable = true)\n",
            "\n"
          ]
        }
      ]
    },
    {
      "cell_type": "markdown",
      "source": [
        "## 2. Exploratory Data Analysis, data cleansing, and visualizations\n",
        "\n",
        "The first 5 rows are displayed below. It seems that only \"case_outcome\" (the label column) and \"case_text\" will be needed for classifying the legal texts."
      ],
      "metadata": {
        "id": "9rRQGj45udvL"
      }
    },
    {
      "cell_type": "code",
      "source": [
        "df.show(5)"
      ],
      "metadata": {
        "colab": {
          "base_uri": "https://localhost:8080/"
        },
        "id": "TgKgTPI0G5Mx",
        "outputId": "a8bb5ca6-ce1c-45ce-a8c4-f1a0cd6f3fff"
      },
      "execution_count": 4,
      "outputs": [
        {
          "output_type": "stream",
          "name": "stdout",
          "text": [
            "+-------+------------+--------------------+--------------------+\n",
            "|case_id|case_outcome|          case_title|           case_text|\n",
            "+-------+------------+--------------------+--------------------+\n",
            "|  Case1|       cited|Alpine Hardwood (...|Ordinarily that d...|\n",
            "|  Case2|       cited|Black v Lipovac [...|\"The general prin...|\n",
            "|  Case3|       cited|Colgate Palmolive...|Ordinarily that d...|\n",
            "|  Case4|       cited|Dais Studio Pty L...|\"The general prin...|\n",
            "|  Case5|       cited|Dr Martens Austra...|The preceding gen...|\n",
            "+-------+------------+--------------------+--------------------+\n",
            "only showing top 5 rows\n",
            "\n"
          ]
        }
      ]
    },
    {
      "cell_type": "markdown",
      "source": [
        "For this reason, the unnecessary columns were removed."
      ],
      "metadata": {
        "id": "iygN0U1uuib4"
      }
    },
    {
      "cell_type": "code",
      "source": [
        "df = df.drop(\"case_id\", \"case_title\")\n",
        "df.show(3)"
      ],
      "metadata": {
        "colab": {
          "base_uri": "https://localhost:8080/"
        },
        "id": "7B8ghq8CHJtv",
        "outputId": "13850d09-4edf-439b-fda4-053ef503884c"
      },
      "execution_count": 5,
      "outputs": [
        {
          "output_type": "stream",
          "name": "stdout",
          "text": [
            "+------------+--------------------+\n",
            "|case_outcome|           case_text|\n",
            "+------------+--------------------+\n",
            "|       cited|Ordinarily that d...|\n",
            "|       cited|\"The general prin...|\n",
            "|       cited|Ordinarily that d...|\n",
            "+------------+--------------------+\n",
            "only showing top 3 rows\n",
            "\n"
          ]
        }
      ]
    },
    {
      "cell_type": "code",
      "source": [
        "def shape(df):\n",
        "  \"\"\"\n",
        "  Print Spark DataFrame shape\n",
        "  Args: DataFrame\n",
        "  \"\"\"\n",
        "  print(f\"number of rows: {df.count()}, number of columns: {len(df.columns)}\")"
      ],
      "metadata": {
        "id": "x8EiLBlKuoUB"
      },
      "execution_count": 6,
      "outputs": []
    },
    {
      "cell_type": "markdown",
      "source": [
        "The dataset has 24985 samples and 2 columns now."
      ],
      "metadata": {
        "id": "TmQUR4yVvKKW"
      }
    },
    {
      "cell_type": "code",
      "source": [
        "shape(df)"
      ],
      "metadata": {
        "colab": {
          "base_uri": "https://localhost:8080/"
        },
        "id": "A4X8Cjy1u_xx",
        "outputId": "34a22896-ab24-4ca0-c9b0-f02350d44536"
      },
      "execution_count": 7,
      "outputs": [
        {
          "output_type": "stream",
          "name": "stdout",
          "text": [
            "number of rows: 24985, number of columns: 2\n"
          ]
        }
      ]
    },
    {
      "cell_type": "markdown",
      "source": [
        "A brief check shows that there are null values in \"case_text\"."
      ],
      "metadata": {
        "id": "a3g4kxaLvRM2"
      }
    },
    {
      "cell_type": "code",
      "source": [
        "df.filter(df[\"case_text\"].isNull()).show()"
      ],
      "metadata": {
        "colab": {
          "base_uri": "https://localhost:8080/"
        },
        "id": "rEQfnWeVbN9C",
        "outputId": "dce935d6-18f3-4de9-87a3-6beab8d4cb8f"
      },
      "execution_count": 8,
      "outputs": [
        {
          "output_type": "stream",
          "name": "stdout",
          "text": [
            "+------------+---------+\n",
            "|case_outcome|case_text|\n",
            "+------------+---------+\n",
            "|    followed|     null|\n",
            "|  considered|     null|\n",
            "|       cited|     null|\n",
            "|    affirmed|     null|\n",
            "| referred to|     null|\n",
            "|  considered|     null|\n",
            "|    followed|     null|\n",
            "|       cited|     null|\n",
            "|       cited|     null|\n",
            "|     applied|     null|\n",
            "|       cited|     null|\n",
            "|       cited|     null|\n",
            "|       cited|     null|\n",
            "|       cited|     null|\n",
            "|       cited|     null|\n",
            "|       cited|     null|\n",
            "|       cited|     null|\n",
            "| referred to|     null|\n",
            "|   discussed|     null|\n",
            "|       cited|     null|\n",
            "+------------+---------+\n",
            "only showing top 20 rows\n",
            "\n"
          ]
        }
      ]
    },
    {
      "cell_type": "markdown",
      "source": [
        "All rows with Null values were removed. More than 100 samples had empty cells."
      ],
      "metadata": {
        "id": "_lWaPcwtvXeP"
      }
    },
    {
      "cell_type": "code",
      "source": [
        "df = df.na.drop()\n",
        "shape(df)"
      ],
      "metadata": {
        "colab": {
          "base_uri": "https://localhost:8080/"
        },
        "id": "gBdSZac4brYx",
        "outputId": "e680fa8f-7a1f-4fa8-946c-844d20806021"
      },
      "execution_count": 9,
      "outputs": [
        {
          "output_type": "stream",
          "name": "stdout",
          "text": [
            "number of rows: 24809, number of columns: 2\n"
          ]
        }
      ]
    },
    {
      "cell_type": "markdown",
      "source": [
        "It is important to have length of text sequences. The code line below computes it and stores it in a new column."
      ],
      "metadata": {
        "id": "UI2NGU5yvqV2"
      }
    },
    {
      "cell_type": "code",
      "source": [
        "df = df.withColumn(\"length\", length(df[\"case_text\"]))\n",
        "df.show(5)"
      ],
      "metadata": {
        "colab": {
          "base_uri": "https://localhost:8080/"
        },
        "id": "-o_v5xxxI9Sz",
        "outputId": "5a3bfbf2-9d62-4878-dc46-b1d78fc6ceb4"
      },
      "execution_count": 10,
      "outputs": [
        {
          "output_type": "stream",
          "name": "stdout",
          "text": [
            "+------------+--------------------+------+\n",
            "|case_outcome|           case_text|length|\n",
            "+------------+--------------------+------+\n",
            "|       cited|Ordinarily that d...|   428|\n",
            "|       cited|\"The general prin...|   602|\n",
            "|       cited|Ordinarily that d...|   428|\n",
            "|       cited|\"The general prin...|   602|\n",
            "|       cited|The preceding gen...|   701|\n",
            "+------------+--------------------+------+\n",
            "only showing top 5 rows\n",
            "\n"
          ]
        }
      ]
    },
    {
      "cell_type": "markdown",
      "source": [
        "It is interesting to see the average length of texts per type of case outcome. the first code line comuptes the mean values. Thereafter, the Spark dataframe is converted in Pandas dataframe to ease visualizations."
      ],
      "metadata": {
        "id": "2Yvfl5Zlvyrm"
      }
    },
    {
      "cell_type": "code",
      "source": [
        "mean_length_by_outcome = df.groupBy(\"case_outcome\").mean()\n",
        "mean_length_by_outcome.show()\n",
        "mean_length_by_outcome_pd = mean_length_by_outcome.toPandas()\n",
        "mean_length_by_outcome_pd.set_index(\"case_outcome\", inplace = True)"
      ],
      "metadata": {
        "colab": {
          "base_uri": "https://localhost:8080/"
        },
        "id": "okbGSA4PJF5t",
        "outputId": "b5c67ca1-51a2-4448-ac4b-77fce3285631"
      },
      "execution_count": 11,
      "outputs": [
        {
          "output_type": "stream",
          "name": "stdout",
          "text": [
            "+-------------+------------------+\n",
            "| case_outcome|       avg(length)|\n",
            "+-------------+------------------+\n",
            "|   considered|  1787.78634490877|\n",
            "|      applied| 1668.094749794914|\n",
            "|     approved|2588.6574074074074|\n",
            "|distinguished|1626.2587064676618|\n",
            "|        cited|1307.1624277456647|\n",
            "|     affirmed|1264.9905660377358|\n",
            "|     followed|1374.5466252220249|\n",
            "|  referred to|1142.1652532661012|\n",
            "|    discussed|1895.0913555992142|\n",
            "|      related| 1856.294642857143|\n",
            "+-------------+------------------+\n",
            "\n"
          ]
        }
      ]
    },
    {
      "cell_type": "markdown",
      "source": [
        "Display of values count (distributions) is simplified with a function."
      ],
      "metadata": {
        "id": "I-WXeeNKa8iC"
      }
    },
    {
      "cell_type": "code",
      "source": [
        "def distribution(df, col):\n",
        "  \"\"\"\n",
        "  Displays counts (distribution) in categorical variable.\n",
        "  Args: Spark DataFrame, column with categorical values (str)\n",
        "  \"\"\"\n",
        "  plt.figure(figsize = (12, 4))\n",
        "  plt.bar(df.index, df[col])\n",
        "  plt.ylabel(f\"{col}\")\n",
        "  plt.show()"
      ],
      "metadata": {
        "id": "eVsD-NCGeAAV"
      },
      "execution_count": 12,
      "outputs": []
    },
    {
      "cell_type": "markdown",
      "source": [
        "The longest texts could be found in *approved* cases and the shortes - in *referred to* cases. Average text length vary between 1100 and 2600 words."
      ],
      "metadata": {
        "id": "iq_syyuibkEN"
      }
    },
    {
      "cell_type": "code",
      "source": [
        "distribution(mean_length_by_outcome_pd, \"avg(length)\")"
      ],
      "metadata": {
        "colab": {
          "base_uri": "https://localhost:8080/",
          "height": 265
        },
        "id": "32_wwZQJwjt6",
        "outputId": "848aeff1-d13d-4313-e77c-b27defbb62bd"
      },
      "execution_count": 13,
      "outputs": [
        {
          "output_type": "display_data",
          "data": {
            "text/plain": [
              "<Figure size 864x288 with 1 Axes>"
            ],
            "image/png": "[encoded data removed]"
          },
          "metadata": {
            "needs_background": "light"
          }
        }
      ]
    },
    {
      "cell_type": "markdown",
      "source": [
        "To simplify visualization of case outcome distribution, the function below aggregates data and converts a Spark into a Pandas dataframe, which then is passed to a Matplotlib object."
      ],
      "metadata": {
        "id": "iIaomFqCb9rX"
      }
    },
    {
      "cell_type": "code",
      "source": [
        "def make_pandas(df):\n",
        "  \"\"\"\n",
        "  GroupBy data by categorical variable, does aggregation and\n",
        "    converts Spark DataFrame into Pandas DataFrame\n",
        "  Args: Spark DataFrame\n",
        "  Returns: Pandas DataFrame with aggregated values.\n",
        "  \"\"\"\n",
        "  aggr = df.groupBy(\"case_outcome\").agg(count(\"case_outcome\"))\n",
        "  aggr_pd = aggr.toPandas()\n",
        "  aggr_pd = aggr_pd.set_index(\"case_outcome\")\n",
        "\n",
        "  return aggr_pd"
      ],
      "metadata": {
        "id": "A3EMpuj4Fhjg"
      },
      "execution_count": 14,
      "outputs": []
    },
    {
      "cell_type": "code",
      "source": [
        "counted_cases_pd = make_pandas(df)"
      ],
      "metadata": {
        "id": "1cSXkSDWGPdk"
      },
      "execution_count": 15,
      "outputs": []
    },
    {
      "cell_type": "markdown",
      "source": [
        "The plot below shows the dataset is quite imbalaced. There are more than 12000 *cited* cases and a tiny number of *approved*, *affirmed*, and *related*  ones. During preliminary work the dataset was balanced by upsampling but neither Decision Tree nor Random Forest - the classification algorithms used below - returned better scores. For this reason, the work proceeds with the imbalanced data. "
      ],
      "metadata": {
        "id": "XWkLAJDD6sfX"
      }
    },
    {
      "cell_type": "code",
      "source": [
        "distribution(counted_cases_pd, \"count(case_outcome)\")"
      ],
      "metadata": {
        "colab": {
          "base_uri": "https://localhost:8080/",
          "height": 265
        },
        "id": "8XvRweMC6jwE",
        "outputId": "361e8a44-17a3-4abc-84b3-5d8ff7efdf8d"
      },
      "execution_count": 16,
      "outputs": [
        {
          "output_type": "display_data",
          "data": {
            "text/plain": [
              "<Figure size 864x288 with 1 Axes>"
            ],
            "image/png": "[encoded data removed]"
          },
          "metadata": {
            "needs_background": "light"
          }
        }
      ]
    },
    {
      "cell_type": "markdown",
      "source": [
        "It turned out that both algorithms cause memory overload if trained on the whole dataset. For this reason, a random sample is taken out to train the models on less entries."
      ],
      "metadata": {
        "id": "mWWUtOnwwFr-"
      }
    },
    {
      "cell_type": "code",
      "source": [
        "df_sample = df.limit(10000)\n",
        "\n",
        "shape(df_sample)"
      ],
      "metadata": {
        "colab": {
          "base_uri": "https://localhost:8080/"
        },
        "id": "IpFAAZ3dn_-j",
        "outputId": "41c5aba9-b5aa-4e35-d593-b5fd99cb82de"
      },
      "execution_count": 17,
      "outputs": [
        {
          "output_type": "stream",
          "name": "stdout",
          "text": [
            "number of rows: 10000, number of columns: 3\n"
          ]
        }
      ]
    },
    {
      "cell_type": "markdown",
      "source": [
        "A brief check shows the sampled data have similar distribution of case outcomes (outcome types appear in different order, however)."
      ],
      "metadata": {
        "id": "B4v38Q8Ve10W"
      }
    },
    {
      "cell_type": "code",
      "source": [
        "counted_sample_pd = make_pandas(df_sample)\n",
        "distribution(counted_sample_pd, \"count(case_outcome)\")"
      ],
      "metadata": {
        "colab": {
          "base_uri": "https://localhost:8080/",
          "height": 265
        },
        "id": "oRV6wwSoG9_4",
        "outputId": "edaac92b-52f7-48f0-ded6-b040e428f9e3"
      },
      "execution_count": 18,
      "outputs": [
        {
          "output_type": "display_data",
          "data": {
            "text/plain": [
              "<Figure size 864x288 with 1 Axes>"
            ],
            "image/png": "[encoded data removed]"
          },
          "metadata": {
            "needs_background": "light"
          }
        }
      ]
    },
    {
      "cell_type": "markdown",
      "source": [
        "Before being preprocessed for modelling, the sampled data are shuffled."
      ],
      "metadata": {
        "id": "rEgW2C2aD41T"
      }
    },
    {
      "cell_type": "code",
      "source": [
        "df_sample = df_sample.orderBy(rand())\n",
        "df_sample.show(10)"
      ],
      "metadata": {
        "colab": {
          "base_uri": "https://localhost:8080/"
        },
        "id": "DJwI97uXDIqL",
        "outputId": "4690294a-76d9-497e-819b-41c1f5ae6a95"
      },
      "execution_count": 19,
      "outputs": [
        {
          "output_type": "stream",
          "name": "stdout",
          "text": [
            "+------------+--------------------+------+\n",
            "|case_outcome|           case_text|length|\n",
            "+------------+--------------------+------+\n",
            "|     applied|\"Based upon the e...|  1708|\n",
            "|     applied|\"are two addition...|   254|\n",
            "| referred to|On this applicati...|   598|\n",
            "|  considered|In oral submissio...|  1478|\n",
            "|    affirmed|This is an applic...| 10294|\n",
            "|    followed|\"Although it is c...|   376|\n",
            "|    followed|Customs argued th...|   850|\n",
            "|  considered|\"may be cases whe...|   285|\n",
            "|       cited|See also Herrera ...|   206|\n",
            "|       cited|\"When the appeal ...|   235|\n",
            "+------------+--------------------+------+\n",
            "only showing top 10 rows\n",
            "\n"
          ]
        }
      ]
    },
    {
      "cell_type": "markdown",
      "source": [
        "## 3. Data preprocessing"
      ],
      "metadata": {
        "id": "wdBFMxwHfiqL"
      }
    },
    {
      "cell_type": "markdown",
      "source": [
        "The code lines below tokenize senteces, remove stop words, vectorize tokens, peform IDF, and convert labels (case outcomes) to numeric value.\n",
        "\n",
        "The `Tokenizer()` converts the input string to lowercase and then splits it by white spaces. Its input column is \"case_text\" and returns (output column) the tokenized text.\n",
        "\n",
        "`StopWordsRemover()` filters out stop words from the input column (the tokenized text). Stop words are words that do not bear significant meaning outside the text (e.g., a, the, I, you, she, he, it, we, they, would, could, etc.).\n",
        "\n",
        "`CountVectorizer()` extracts a vocabulary from the document. It converts the words into a matrix of token counts which results in a sparse representation of the counts.\n",
        "\n",
        "`IDF()` computes the Inverse Document Frequency (IDF) of the given collection of documents. IDF is a numerical statistic that is intended to reflect how important a word is to a document in a collection.\n",
        "\n",
        "And finally, `StringIndexer()` maps a string column of labels to a column of label indices. The indices are in range [0, number of labels). By default, it is ordered by label frequencies so the most frequent label gets index 0. "
      ],
      "metadata": {
        "id": "4RsCh0N2EAZ6"
      }
    },
    {
      "cell_type": "code",
      "source": [
        "tokenizer = Tokenizer(inputCol = \"case_text\", outputCol = \"token_text\")\n",
        "stop_remove = StopWordsRemover(inputCol = \"token_text\", outputCol = \"stop_token\")\n",
        "count_vec = CountVectorizer(inputCol = \"stop_token\", outputCol = \"c_vec\")\n",
        "idf = IDF(inputCol = \"c_vec\", outputCol = \"tf_idf\")\n",
        "label_indexer = StringIndexer(inputCol = \"case_outcome\", outputCol = \"label\")"
      ],
      "metadata": {
        "id": "smFseJuVJS5o"
      },
      "execution_count": 20,
      "outputs": []
    },
    {
      "cell_type": "markdown",
      "source": [
        "The final, transformed data is stored in a variable, which gets vector column with features."
      ],
      "metadata": {
        "id": "8jqgkjkxiI-R"
      }
    },
    {
      "cell_type": "code",
      "source": [
        "clean_up = VectorAssembler(inputCols = [\"tf_idf\", \"length\"], outputCol = \"features\")"
      ],
      "metadata": {
        "id": "GzUxfDbjMGHe"
      },
      "execution_count": 21,
      "outputs": []
    },
    {
      "cell_type": "markdown",
      "source": [
        "All preprocessing stages are ordered and placed in a pipeline."
      ],
      "metadata": {
        "id": "9GNjox50EeBE"
      }
    },
    {
      "cell_type": "code",
      "source": [
        "pipeline = Pipeline(stages = [tokenizer, stop_remove, count_vec, idf, label_indexer, clean_up])"
      ],
      "metadata": {
        "id": "_8z9Yr9IMtbp"
      },
      "execution_count": 22,
      "outputs": []
    },
    {
      "cell_type": "markdown",
      "source": [
        "Data is being preprocessed by passing it to the pipeline."
      ],
      "metadata": {
        "id": "bxYA0jZnEl5s"
      }
    },
    {
      "cell_type": "code",
      "source": [
        "cleaner = pipeline.fit(df_sample)\n",
        "clean_df = cleaner.transform(df_sample)\n",
        "clean_df = clean_df.select(\"label\", \"features\")\n",
        "clean_df.show(10)"
      ],
      "metadata": {
        "colab": {
          "base_uri": "https://localhost:8080/"
        },
        "id": "FQ1YeNmBNB7X",
        "outputId": "670d8bf1-92fd-4896-aee3-31680ca5fc3c"
      },
      "execution_count": 23,
      "outputs": [
        {
          "output_type": "stream",
          "name": "stdout",
          "text": [
            "+-----+--------------------+\n",
            "|label|            features|\n",
            "+-----+--------------------+\n",
            "|  2.0|(57144,[0,9,14,20...|\n",
            "|  2.0|(57144,[44,61,133...|\n",
            "|  1.0|(57144,[0,8,10,17...|\n",
            "|  4.0|(57144,[0,1,11,15...|\n",
            "|  7.0|(57144,[0,1,5,11,...|\n",
            "|  3.0|(57144,[0,7,11,15...|\n",
            "|  3.0|(57144,[0,3,7,9,1...|\n",
            "|  4.0|(57144,[0,3,8,10,...|\n",
            "|  0.0|(57144,[0,3,10,18...|\n",
            "|  0.0|(57144,[1,5,24,30...|\n",
            "+-----+--------------------+\n",
            "only showing top 10 rows\n",
            "\n"
          ]
        }
      ]
    },
    {
      "cell_type": "markdown",
      "source": [
        "The sampled texts were split into train and test sets."
      ],
      "metadata": {
        "id": "myGHgOxyFO_M"
      }
    },
    {
      "cell_type": "code",
      "source": [
        "train, test = clean_df.randomSplit([0.8, 0.2], seed = 42)"
      ],
      "metadata": {
        "id": "MpUuX0jMNYMZ"
      },
      "execution_count": 24,
      "outputs": []
    },
    {
      "cell_type": "markdown",
      "source": [
        "It is important train and test data to have similar distribution of classes (labels). The plots below confirms it."
      ],
      "metadata": {
        "id": "HVnZAU5IFaXV"
      }
    },
    {
      "cell_type": "code",
      "source": [
        "plt.figure(figsize = (16, 5))\n",
        "plt.subplot(1, 2, 1)\n",
        "plt.hist(train.select(\"label\").rdd.flatMap(lambda x: x).collect())\n",
        "plt.xlabel(\"case_outcome\")\n",
        "plt.ylabel(\"Number\")\n",
        "plt.title(\"Case outcome in train data\")\n",
        "\n",
        "plt.subplot(1, 2, 2)\n",
        "plt.hist(test.select(\"label\").rdd.flatMap(lambda x: x).collect())\n",
        "plt.xlabel(\"case_outcome\")\n",
        "plt.ylabel(\"Number\")\n",
        "plt.title(\"Case outcome in test data\")\n",
        "\n",
        "plt.show()"
      ],
      "metadata": {
        "colab": {
          "base_uri": "https://localhost:8080/",
          "height": 350
        },
        "id": "k6ng_RO1FZv1",
        "outputId": "adcdd3b0-44b7-4d12-cde2-03afd398ecca"
      },
      "execution_count": 25,
      "outputs": [
        {
          "output_type": "display_data",
          "data": {
            "text/plain": [
              "<Figure size 1152x360 with 2 Axes>"
            ],
            "image/png": "[encoded data removed]"
          },
          "metadata": {
            "needs_background": "light"
          }
        }
      ]
    },
    {
      "cell_type": "markdown",
      "source": [
        "## 4. Build and evaluate ML classification model"
      ],
      "metadata": {
        "id": "2tq7yyO-kJK0"
      }
    },
    {
      "cell_type": "markdown",
      "source": [
        "There are various classification algorithms. Here, only Decision Tree and Random Forest were tried and tested. Both expect name of label column and name of features column. Tree-based models tend to overfit data. For this reason, their learing capacity was restrained by regularizing tree depth up to 6 levels, and up to 10 estimators in the Random Forest. "
      ],
      "metadata": {
        "id": "4nys8an5kR_Z"
      }
    },
    {
      "cell_type": "code",
      "source": [
        "dt = DecisionTreeClassifier(labelCol = 'label', featuresCol = 'features', maxDepth = 6)\n",
        "rf = RandomForestClassifier(labelCol = 'label', featuresCol = 'features', maxDepth = 6, numTrees = 10)"
      ],
      "metadata": {
        "id": "i38umTQvgIAt"
      },
      "execution_count": 26,
      "outputs": []
    },
    {
      "cell_type": "markdown",
      "source": [
        "The function below helps to peform all modelling computations, including training, to predict labels on test data, and to evaluate model performance in terms of its accuracy, f1, weighted precision, and weighted recall."
      ],
      "metadata": {
        "id": "X4loO7HplOuh"
      }
    },
    {
      "cell_type": "code",
      "source": [
        "def modelling(model, train, test):\n",
        "  \"\"\"\n",
        "  Trains model, computes predictions on test data, and evaluates the model \n",
        "    performance in terms of its accuracy.\n",
        "  Args: model: instantiated PySpark Machine Learning algorithm\n",
        "        train: train data (spark preprocessed dataframe)\n",
        "        test: test data (spark preprocessed dataframe)\n",
        "  \"\"\"\n",
        "  model = model.fit(train)\n",
        "  predictions = model.transform(test)\n",
        "  predictions.show(5)\n",
        "  evaluator_acc = MulticlassClassificationEvaluator(labelCol = \"label\", predictionCol = \"prediction\", metricName = \"accuracy\")\n",
        "  evaluator_f1 = MulticlassClassificationEvaluator(labelCol = \"label\", predictionCol = \"prediction\", metricName = \"f1\")\n",
        "  evaluator_wprec = MulticlassClassificationEvaluator(labelCol = \"label\", predictionCol = \"prediction\", metricName = \"weightedPrecision\")\n",
        "  evaluator_wrecall = MulticlassClassificationEvaluator(labelCol = \"label\", predictionCol = \"prediction\", metricName = \"weightedRecall\")\n",
        "  accuracy = evaluator_acc.evaluate(predictions)\n",
        "  f1 = evaluator_f1.evaluate(predictions)\n",
        "  weighted_recall = evaluator_wrecall.evaluate(predictions)\n",
        "  weighted_precision = evaluator_wprec.evaluate(predictions)\n",
        "\n",
        "  print(f\"Test Accuracy: {accuracy:.2f}\")\n",
        "  print(f\"Test f1 score: {f1:.2f}\")\n",
        "  print(f\"Test weighted recall: {weighted_recall:.2f}\")\n",
        "  print(f\"Test weighted precision: {weighted_precision:.2f}\")"
      ],
      "metadata": {
        "id": "IA37tg9YLNwF"
      },
      "execution_count": 27,
      "outputs": []
    },
    {
      "cell_type": "markdown",
      "source": [
        "Model performance is far from good both with Decision Tree and Random Forest. Their accuracy couldn't reach 50%, which means that half of the test samples were wrongly classified. High error rates (low values on all evaluation metrics), hence underfitting could be explained with noisy data, with building not so complex models (I introduced regularization to speed up training and to avoid overfitting), or with unsufficient training data. \n",
        "\n",
        "It should be said however, that a Kaggle user didn't reach much higher scores with `scikit-learn`'s Support Vector Classifier, Logistic Regression, Multinomial NaiveBayes, and Random Forest Classifier (referenced solution could be found [here](https://www.kaggle.com/code/sasakitetsuya/nlp-multi-categories-prediction-trial-2).)"
      ],
      "metadata": {
        "id": "oDQveWRpoXsp"
      }
    },
    {
      "cell_type": "code",
      "source": [
        "modelling(dt, train, test)"
      ],
      "metadata": {
        "colab": {
          "base_uri": "https://localhost:8080/"
        },
        "id": "vMVJdArdL41I",
        "outputId": "8f160f34-33b3-4814-8776-beee0cc25736"
      },
      "execution_count": 28,
      "outputs": [
        {
          "output_type": "stream",
          "name": "stdout",
          "text": [
            "+-----+--------------------+--------------------+--------------------+----------+\n",
            "|label|            features|       rawPrediction|         probability|prediction|\n",
            "+-----+--------------------+--------------------+--------------------+----------+\n",
            "|  0.0|(57144,[0,1,2,3,4...|[44.0,24.0,14.0,8...|[0.44,0.24,0.14,0...|       0.0|\n",
            "|  0.0|(57144,[0,1,2,3,4...|[44.0,24.0,14.0,8...|[0.44,0.24,0.14,0...|       0.0|\n",
            "|  0.0|(57144,[0,1,2,3,4...|[44.0,24.0,14.0,8...|[0.44,0.24,0.14,0...|       0.0|\n",
            "|  0.0|(57144,[0,1,2,3,4...|[44.0,24.0,14.0,8...|[0.44,0.24,0.14,0...|       0.0|\n",
            "|  0.0|(57144,[0,1,2,3,4...|[44.0,24.0,14.0,8...|[0.44,0.24,0.14,0...|       0.0|\n",
            "+-----+--------------------+--------------------+--------------------+----------+\n",
            "only showing top 5 rows\n",
            "\n",
            "Test Accuracy: 0.49\n",
            "Test f1 score: 0.35\n",
            "Test weighted recall: 0.49\n",
            "Test weighted precision: 0.38\n"
          ]
        }
      ]
    },
    {
      "cell_type": "code",
      "source": [
        "modelling(rf, train, test)"
      ],
      "metadata": {
        "colab": {
          "base_uri": "https://localhost:8080/"
        },
        "id": "jyUSRb76R75j",
        "outputId": "1b1445c0-0dba-4e9e-f504-6663340f157f"
      },
      "execution_count": 29,
      "outputs": [
        {
          "output_type": "stream",
          "name": "stdout",
          "text": [
            "+-----+--------------------+--------------------+--------------------+----------+\n",
            "|label|            features|       rawPrediction|         probability|prediction|\n",
            "+-----+--------------------+--------------------+--------------------+----------+\n",
            "|  0.0|(57144,[0,1,2,3,4...|[4.22514466081003...|[0.42251446608100...|       0.0|\n",
            "|  0.0|(57144,[0,1,2,3,4...|[4.22514466081003...|[0.42251446608100...|       0.0|\n",
            "|  0.0|(57144,[0,1,2,3,4...|[4.22514466081003...|[0.42251446608100...|       0.0|\n",
            "|  0.0|(57144,[0,1,2,3,4...|[6.39158162566000...|[0.63915816256600...|       0.0|\n",
            "|  0.0|(57144,[0,1,2,3,4...|[6.39158162566000...|[0.63915816256600...|       0.0|\n",
            "+-----+--------------------+--------------------+--------------------+----------+\n",
            "only showing top 5 rows\n",
            "\n",
            "Test Accuracy: 0.49\n",
            "Test f1 score: 0.32\n",
            "Test weighted recall: 0.49\n",
            "Test weighted precision: 0.24\n"
          ]
        }
      ]
    }
  ]
}